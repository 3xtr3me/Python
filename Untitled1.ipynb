{
 "cells": [
  {
   "cell_type": "code",
   "execution_count": null,
   "id": "710791a1",
   "metadata": {},
   "outputs": [
    {
     "name": "stdout",
     "output_type": "stream",
     "text": [
      "Send me a ciphertext and I'll decrypt it for me!\n",
      "IV: 9fe14fa997cd62cb111fa75ee8e9ae4e\n",
      "Encrypted Flag: af2b6f0c1385adb79f319bebdf228ea80c74bc8a661ed79f3222552b98f22920\n",
      "\n",
      "Enter ciphertext (in hex):\n",
      "48 65 6C 6C 6F\n",
      "Enter the IV:\n",
      "9fe14fa997cd62cb111fa75ee8e9ae4e\n",
      "Bad Decrypt!\n",
      "\n",
      "Enter ciphertext (in hex):\n"
     ]
    }
   ],
   "source": [
    "\n",
    "from Crypto.Cipher import AES\n",
    "from Crypto.Util.Padding import pad, unpad\n",
    "from Crypto.Random import get_random_bytes\n",
    "\n",
    "FLAG = b\"hsbctf{REDACTED}\" # Flag has been redacted in this local copy\n",
    "\n",
    "key = get_random_bytes(AES.block_size)\n",
    "iv = get_random_bytes(AES.block_size)\n",
    "\n",
    "\n",
    "def decrypt(iv_: bytes, ct: bytes) -> bytes:\n",
    "    cipher = AES.new(key, AES.MODE_CBC, iv=iv_)\n",
    "    try:\n",
    "        pt = unpad(cipher.decrypt(ct), AES.block_size)\n",
    "        return pt\n",
    "    except:\n",
    "        return None\n",
    "\n",
    "\n",
    "if __name__ == \"__main__\":\n",
    "    cipher = AES.new(key, AES.MODE_CBC, iv=iv)\n",
    "    ciphertext = cipher.encrypt(pad(FLAG, AES.block_size))\n",
    "\n",
    "    print(\"Send me a ciphertext and I'll decrypt it for me!\")\n",
    "\n",
    "    print(f\"IV: {iv.hex()}\")\n",
    "    print(f\"Encrypted Flag: {ciphertext.hex()}\\n\")\n",
    "\n",
    "    while True:\n",
    "        print(\"Enter ciphertext (in hex):\")\n",
    "        ct = bytes.fromhex(input())\n",
    "        print(\"Enter the IV:\")\n",
    "        iv = bytes.fromhex(input())\n",
    "\n",
    "        if decrypt(iv, ct) == None:\n",
    "            print(\"Bad Decrypt!\\n\")\n",
    "        else:\n",
    "            print(\"Successfully decrypted!\\n\")\n",
    "\n",
    "    \n",
    "    \n"
   ]
  },
  {
   "cell_type": "code",
   "execution_count": 10,
   "id": "932d0445",
   "metadata": {},
   "outputs": [
    {
     "ename": "SyntaxError",
     "evalue": "invalid syntax (2656497081.py, line 5)",
     "output_type": "error",
     "traceback": [
      "\u001b[0;36m  Cell \u001b[0;32mIn[10], line 5\u001b[0;36m\u001b[0m\n\u001b[0;31m    FLAG = bhsbctf{REDACTED}  # Flag has been redacted in this local copy\u001b[0m\n\u001b[0m                  ^\u001b[0m\n\u001b[0;31mSyntaxError\u001b[0m\u001b[0;31m:\u001b[0m invalid syntax\n"
     ]
    }
   ],
   "source": [
    "from Crypto.Cipher import AES\n",
    "from Crypto.Util.Padding import pad, unpad\n",
    "from Crypto.Random import get_random_bytes\n",
    "\n",
    "FLAG = bhsbctf{REDACTED}  # Flag has been redacted in this local copy\n",
    "\n",
    "key = get_random_bytes(AES.block_size)\n",
    "iv = get_random_bytes(AES.block_size)\n",
    "\n",
    "\n",
    "def decrypt(iv_: bytes, ct: bytes) -> bytes:\n",
    "    cipher = AES.new(key, AES.MODE_CBC, iv=iv_)\n",
    "    try:\n",
    "        pt = unpad(cipher.decrypt(ct), AES.block_size)\n",
    "        return pt\n",
    "    except:\n",
    "        return None\n",
    "\n",
    "\n",
    "if __name__ == \"__main__\":\n",
    "    cipher = AES.new(key, AES.MODE_CBC, iv=iv)\n",
    "    ciphertext = cipher.encrypt(pad(FLAG, AES.block_size))\n",
    "\n",
    "    print(\"Send me a ciphertext and I'll decrypt it for you!\")\n",
    "\n",
    "    print(f\"IV: {iv.hex()}\")\n",
    "    print(f\"Encrypted Flag: {ciphertext.hex()}\\n\")\n",
    "\n",
    "    while True:\n",
    "        print(\"Enter ciphertext (in hex):\")\n",
    "        ct = bytes.fromhex(input())\n",
    "        print(\"Enter the IV:\")\n",
    "        iv = bytes.fromhex(input())\n",
    "\n",
    "        decrypted_flag = decrypt(iv, ct)\n",
    "        if decrypted_flag is None:\n",
    "            print(\"Bad Decrypt!\\n\")\n",
    "        else:\n",
    "            print(\"Successfully decrypted!\")\n",
    "            print(f\"Decrypted Flag: {decrypted_flag.decode()}\\n\")\n"
   ]
  },
  {
   "cell_type": "code",
   "execution_count": null,
   "id": "948418bb",
   "metadata": {},
   "outputs": [],
   "source": []
  }
 ],
 "metadata": {
  "kernelspec": {
   "display_name": "Python 3 (ipykernel)",
   "language": "python",
   "name": "python3"
  },
  "language_info": {
   "codemirror_mode": {
    "name": "ipython",
    "version": 3
   },
   "file_extension": ".py",
   "mimetype": "text/x-python",
   "name": "python",
   "nbconvert_exporter": "python",
   "pygments_lexer": "ipython3",
   "version": "3.11.4"
  }
 },
 "nbformat": 4,
 "nbformat_minor": 5
}
